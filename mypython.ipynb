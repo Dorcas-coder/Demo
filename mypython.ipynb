{
 "cells": [
  {
   "cell_type": "markdown",
   "id": "708521ef-83ab-4a76-817e-10f0d20dab87",
   "metadata": {},
   "source": [
    "Create a python list whose contents represents the arithmetic sequence $ 4, 7, 10, \\ldots, 151. $ Note that in this case, the first term is 4, the common difference is 3 and the number of terms is 50."
   ]
  },
  {
   "cell_type": "code",
   "execution_count": 10,
   "id": "f5159e41-6c21-4574-ad7a-d4cd7fecd2fe",
   "metadata": {},
   "outputs": [],
   "source": [
    "def AP(a,d):\n",
    "    result = []\n",
    "    for i in range(0,50):\n",
    "        P = a + i*d\n",
    "        result.append(P)\n",
    "    return result"
   ]
  },
  {
   "cell_type": "code",
   "execution_count": 11,
   "id": "2071610a",
   "metadata": {},
   "outputs": [
    {
     "data": {
      "text/plain": [
       "[4,\n",
       " 7,\n",
       " 10,\n",
       " 13,\n",
       " 16,\n",
       " 19,\n",
       " 22,\n",
       " 25,\n",
       " 28,\n",
       " 31,\n",
       " 34,\n",
       " 37,\n",
       " 40,\n",
       " 43,\n",
       " 46,\n",
       " 49,\n",
       " 52,\n",
       " 55,\n",
       " 58,\n",
       " 61,\n",
       " 64,\n",
       " 67,\n",
       " 70,\n",
       " 73,\n",
       " 76,\n",
       " 79,\n",
       " 82,\n",
       " 85,\n",
       " 88,\n",
       " 91,\n",
       " 94,\n",
       " 97,\n",
       " 100,\n",
       " 103,\n",
       " 106,\n",
       " 109,\n",
       " 112,\n",
       " 115,\n",
       " 118,\n",
       " 121,\n",
       " 124,\n",
       " 127,\n",
       " 130,\n",
       " 133,\n",
       " 136,\n",
       " 139,\n",
       " 142,\n",
       " 145,\n",
       " 148,\n",
       " 151]"
      ]
     },
     "execution_count": 11,
     "metadata": {},
     "output_type": "execute_result"
    }
   ],
   "source": [
    "AP(4,3)"
   ]
  },
  {
   "cell_type": "markdown",
   "id": "f96bb86a-e283-44fd-abaf-9eaec7d27c1e",
   "metadata": {},
   "source": [
    "Create a python list whose contents represents the geometric sequence $ar^i$ where $a=4$ and $r=3$ for $i = 0,1,\\ldots,20.$"
   ]
  },
  {
   "cell_type": "code",
   "execution_count": 20,
   "id": "2ba3699d-0501-4f96-9c35-48ef4ba18c58",
   "metadata": {},
   "outputs": [],
   "source": [
    "def GP(a,r):\n",
    "    lst =[]\n",
    "    for i in range(0,21):\n",
    "        Q = a*(r**i)\n",
    "        lst.append(Q)\n",
    "    return lst"
   ]
  },
  {
   "cell_type": "code",
   "execution_count": 21,
   "id": "924cebcd",
   "metadata": {},
   "outputs": [
    {
     "data": {
      "text/plain": [
       "[4,\n",
       " 12,\n",
       " 36,\n",
       " 108,\n",
       " 324,\n",
       " 972,\n",
       " 2916,\n",
       " 8748,\n",
       " 26244,\n",
       " 78732,\n",
       " 236196,\n",
       " 708588,\n",
       " 2125764,\n",
       " 6377292,\n",
       " 19131876,\n",
       " 57395628,\n",
       " 172186884,\n",
       " 516560652,\n",
       " 1549681956,\n",
       " 4649045868,\n",
       " 13947137604]"
      ]
     },
     "execution_count": 21,
     "metadata": {},
     "output_type": "execute_result"
    }
   ],
   "source": [
    "GP(4,3)"
   ]
  },
  {
   "cell_type": "markdown",
   "id": "2b90b5bc-4954-43e1-ba39-f03761a1b469",
   "metadata": {},
   "source": [
    "Create a python function **`avg`** that takes as input two numbers and returns the average of the two numbers."
   ]
  },
  {
   "cell_type": "code",
   "execution_count": 18,
   "id": "e578454a-0f85-4f42-9ed7-ebfd3c81dc84",
   "metadata": {},
   "outputs": [],
   "source": [
    "def avg(a,b):\n",
    "    D= a+b\n",
    "    return (D/2)"
   ]
  },
  {
   "cell_type": "code",
   "execution_count": 19,
   "id": "0e603328",
   "metadata": {},
   "outputs": [
    {
     "data": {
      "text/plain": [
       "15.5"
      ]
     },
     "execution_count": 19,
     "metadata": {},
     "output_type": "execute_result"
    }
   ],
   "source": [
    "avg(15,16)"
   ]
  },
  {
   "cell_type": "markdown",
   "id": "39ef80b1-7c85-4830-b37d-2bf99c5326ab",
   "metadata": {},
   "source": [
    "Consider the list $[a_0,a_1,a_2,a_3,\\ldots,a_{n-2},a_{n-1},a_n],$ the cumulative sum of the list is the list \n",
    "$\\left[a_0,a_0+a_1,a_0+a_1+a_2,\\ldots,\\sum_{i=0}^{n-2}a_i,\\sum_{i=0}^{n-1}a_i,\\sum_{i=0}^{n}a_i\\right].$ Write python code to find the cumulative sum of the list `x` below"
   ]
  },
  {
   "cell_type": "code",
   "execution_count": 95,
   "id": "1053bf3f",
   "metadata": {},
   "outputs": [
    {
     "name": "stdout",
     "output_type": "stream",
     "text": [
      "[1, 3, 6, 10, 15]\n"
     ]
    }
   ],
   "source": [
    "def cumulative_sum(lst):\n",
    "    result = []\n",
    "    current_sum = 0\n",
    "    for num in lst:\n",
    "        current_sum += num\n",
    "        result.append(current_sum)\n",
    "    return result\n",
    "\n",
    "# Example usage\n",
    "my_list = [1, 2, 3, 4, 5]\n",
    "print(cumulative_sum(my_list))\n"
   ]
  },
  {
   "cell_type": "code",
   "execution_count": 72,
   "id": "c5b401fc-6bad-485e-995f-969666659095",
   "metadata": {},
   "outputs": [],
   "source": [
    "def x(lst):\n",
    "    res = []\n",
    "    a=0\n",
    "    for num in lst:\n",
    "        a+=num \n",
    "        res.append(G)\n",
    "    return res\n",
    "        \n",
    "    "
   ]
  },
  {
   "cell_type": "code",
   "execution_count": 73,
   "id": "3e44d6b7",
   "metadata": {},
   "outputs": [
    {
     "ename": "TypeError",
     "evalue": "'builtin_function_or_method' object is not subscriptable",
     "output_type": "error",
     "traceback": [
      "\u001b[0;31m---------------------------------------------------------------------------\u001b[0m",
      "\u001b[0;31mTypeError\u001b[0m                                 Traceback (most recent call last)",
      "Cell \u001b[0;32mIn [73], line 1\u001b[0m\n\u001b[0;32m----> 1\u001b[0m \u001b[43mx\u001b[49m\u001b[43m(\u001b[49m\u001b[43m[\u001b[49m\u001b[38;5;241;43m1\u001b[39;49m\u001b[43m,\u001b[49m\u001b[38;5;241;43m2\u001b[39;49m\u001b[43m,\u001b[49m\u001b[38;5;241;43m3\u001b[39;49m\u001b[43m]\u001b[49m\u001b[43m)\u001b[49m\n",
      "Cell \u001b[0;32mIn [72], line 4\u001b[0m, in \u001b[0;36mx\u001b[0;34m(lst)\u001b[0m\n\u001b[1;32m      2\u001b[0m res \u001b[38;5;241m=\u001b[39m []\n\u001b[1;32m      3\u001b[0m \u001b[38;5;28;01mfor\u001b[39;00m i \u001b[38;5;129;01min\u001b[39;00m lst:\n\u001b[0;32m----> 4\u001b[0m     G \u001b[38;5;241m=\u001b[39m ([i],(\u001b[38;5;28;43mlen\u001b[39;49m\u001b[43m[\u001b[49m\u001b[43mi\u001b[49m\u001b[43m]\u001b[49m\u001b[38;5;241m+\u001b[39m[i\u001b[38;5;241m+\u001b[39m\u001b[38;5;241m1\u001b[39m]))\n\u001b[1;32m      5\u001b[0m     res\u001b[38;5;241m.\u001b[39mappend(G)\n\u001b[1;32m      6\u001b[0m \u001b[38;5;28;01mreturn\u001b[39;00m res\n",
      "\u001b[0;31mTypeError\u001b[0m: 'builtin_function_or_method' object is not subscriptable"
     ]
    }
   ],
   "source": [
    "x([1,2,3])"
   ]
  },
  {
   "cell_type": "markdown",
   "id": "8ea5d329-eb57-43f7-ac97-a885da4d2e1c",
   "metadata": {},
   "source": [
    "Find the value of the expression $\\displaystyle\\frac{3+4i}{2+i}$"
   ]
  },
  {
   "cell_type": "code",
   "execution_count": 91,
   "id": "2d3739c3-51e2-4447-8e69-b7bdf25934a0",
   "metadata": {},
   "outputs": [
    {
     "data": {
      "text/plain": [
       "(2+1j)"
      ]
     },
     "execution_count": 91,
     "metadata": {},
     "output_type": "execute_result"
    }
   ],
   "source": [
    "a = 3+4j\n",
    "b = 2+1j\n",
    "a/b"
   ]
  },
  {
   "cell_type": "code",
   "execution_count": null,
   "id": "cc1047d0",
   "metadata": {},
   "outputs": [],
   "source": []
  },
  {
   "cell_type": "markdown",
   "id": "6082c782-6ff9-4f6b-8986-9e0c6fa5f717",
   "metadata": {},
   "source": [
    "Use the expression $\\displaystyle\\frac{3+4i}{2+i},$ to verify the complex number equivalence\n",
    "$\\displaystyle\\frac{a}{b} = \\frac{a\\cdot \\bar{b}}{b \\cdot \\bar{b}}$ where $\\bar{a}$ represents the complex conjugate of $a$ and $\\cdot$ represents multiplication."
   ]
  },
  {
   "cell_type": "code",
   "execution_count": 92,
   "id": "7ced5b2d-87b2-419b-9050-3acf479e7ecd",
   "metadata": {},
   "outputs": [
    {
     "data": {
      "text/plain": [
       "(2+1j)"
      ]
     },
     "execution_count": 92,
     "metadata": {},
     "output_type": "execute_result"
    }
   ],
   "source": [
    "L = a*b.conjugate()\n",
    "M = b*b.conjugate()\n",
    "L/M"
   ]
  },
  {
   "cell_type": "markdown",
   "id": "ca8ada21-3b2b-4fbf-95e5-41239a188d71",
   "metadata": {},
   "source": [
    "Create a python function representing this mathematical function\n",
    "$$ f(x) = \\begin{cases}\n",
    "x^2 & x < 0 \\\\\n",
    "x^3 & \\mathrm{otherwise}\n",
    "\\end{cases}$$"
   ]
  },
  {
   "cell_type": "code",
   "execution_count": 22,
   "id": "217711b8-4194-4843-8b00-df58aac59681",
   "metadata": {},
   "outputs": [],
   "source": [
    "def funct(x):\n",
    "    if x < 0:\n",
    "        return(x**2)\n",
    "    else:\n",
    "        return(x**3)\n",
    "    "
   ]
  },
  {
   "cell_type": "code",
   "execution_count": 24,
   "id": "62adf55b",
   "metadata": {},
   "outputs": [
    {
     "data": {
      "text/plain": [
       "16"
      ]
     },
     "execution_count": 24,
     "metadata": {},
     "output_type": "execute_result"
    }
   ],
   "source": [
    "funct(-4)"
   ]
  },
  {
   "cell_type": "code",
   "execution_count": 25,
   "id": "3fd65770",
   "metadata": {},
   "outputs": [
    {
     "data": {
      "text/plain": [
       "27"
      ]
     },
     "execution_count": 25,
     "metadata": {},
     "output_type": "execute_result"
    }
   ],
   "source": [
    "funct(3)"
   ]
  },
  {
   "cell_type": "markdown",
   "id": "f5c64017-aff1-4770-afc9-23f7a6194590",
   "metadata": {},
   "source": [
    "Create an array `t` for the interval $[0,5\\pi]$ with 301 elements"
   ]
  },
  {
   "cell_type": "code",
   "execution_count": 94,
   "id": "5a717dd6-8bc8-45cf-8863-6453c8fdac02",
   "metadata": {},
   "outputs": [],
   "source": [
    "import numpy as np\n",
    "from math import pi\n",
    "t = np.linspace(0,5*pi,301)\n"
   ]
  },
  {
   "cell_type": "markdown",
   "id": "2b51baa9-97f3-4625-af07-061129bcf65d",
   "metadata": {},
   "source": [
    "Create two arrays based on the parametric functions\n",
    "$$ x_p(t) = 3\\cos(t) $$\n",
    "$$ y_p(t) = 2\\sin(4t) $$"
   ]
  },
  {
   "cell_type": "code",
   "execution_count": 93,
   "id": "80bd5874-2762-4a5a-af66-d074091e2cdb",
   "metadata": {},
   "outputs": [],
   "source": [
    "import numpy as np\n",
    "from math import cos,sin\n",
    "xp = 3*(np.cos(t))\n",
    "yp= 2*(np.sin(4*t))"
   ]
  },
  {
   "cell_type": "markdown",
   "id": "aec7b515-ebd5-4070-ad3e-789bf4e0da22",
   "metadata": {},
   "source": [
    "Plot $x_p$ on the $x-$axis against $y_p$ on the $y-$axis. "
   ]
  },
  {
   "cell_type": "code",
   "execution_count": 51,
   "id": "c80ff73e-6f76-4a43-9a50-1fa4190349ad",
   "metadata": {},
   "outputs": [
    {
     "data": {
      "text/plain": [
       "Text(0, 0.5, 'y-axis')"
      ]
     },
     "execution_count": 51,
     "metadata": {},
     "output_type": "execute_result"
    },
    {
     "data": {
      "image/png": "[encoded data removed]",
      "text/plain": [
       "<Figure size 640x480 with 1 Axes>"
      ]
     },
     "metadata": {},
     "output_type": "display_data"
    }
   ],
   "source": [
    "import matplotlib.pyplot as plt\n",
    "plt.plot(xp, yp)\n",
    "plt.xlabel('x-axis')\n",
    "plt.ylabel('y-axis')"
   ]
  },
  {
   "cell_type": "code",
   "execution_count": null,
   "id": "32d1a87b",
   "metadata": {},
   "outputs": [],
   "source": []
  }
 ],
 "metadata": {
  "kernelspec": {
   "display_name": "Python 3 (ipykernel)",
   "language": "python",
   "name": "python3"
  },
  "language_info": {
   "codemirror_mode": {
    "name": "ipython",
    "version": 3
   },
   "file_extension": ".py",
   "mimetype": "text/x-python",
   "name": "python",
   "nbconvert_exporter": "python",
   "pygments_lexer": "ipython3",
   "version": "3.11.2"
  }
 },
 "nbformat": 4,
 "nbformat_minor": 5
}
